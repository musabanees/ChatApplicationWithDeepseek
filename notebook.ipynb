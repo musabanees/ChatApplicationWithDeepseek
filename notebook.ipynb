{
 "cells": [
  {
   "cell_type": "code",
   "execution_count": null,
   "metadata": {},
   "outputs": [],
   "source": [
    "from langchain_community.vectorstores import Chroma\n",
    "from langchain_community.embeddings import HuggingFaceEmbeddings\n",
    "\n",
    "# Load the embedding model (same one used to create the store)\n",
    "embeddings = HuggingFaceEmbeddings(model_name=\"all-MiniLM-L6-v2\")\n",
    "\n",
    "# Load the existing ChromaDB vector store\n",
    "vector_store = Chroma(\n",
    "    persist_directory=\"./chroma_db_singlePage\",\n",
    "    embedding_function=embeddings\n",
    ")\n",
    "\n",
    "# Get basic info\n",
    "print(f\"Total number of embeddings: {vector_store._collection.count()}\")\n",
    "\n",
    "# Optional: Persist again if changes are made (not needed here)\n",
    "# vector_store.persist()"
   ]
  }
 ],
 "metadata": {
  "kernelspec": {
   "display_name": "myenv",
   "language": "python",
   "name": "python3"
  },
  "language_info": {
   "name": "python",
   "version": "3.12.6"
  }
 },
 "nbformat": 4,
 "nbformat_minor": 2
}
